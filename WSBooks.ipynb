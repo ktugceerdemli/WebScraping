{
  "nbformat": 4,
  "nbformat_minor": 0,
  "metadata": {
    "colab": {
      "provenance": [],
      "authorship_tag": "ABX9TyPXb6/E7/7kvfsvRdd5sT2s",
      "include_colab_link": true
    },
    "kernelspec": {
      "name": "python3",
      "display_name": "Python 3"
    },
    "language_info": {
      "name": "python"
    }
  },
  "cells": [
    {
      "cell_type": "markdown",
      "metadata": {
        "id": "view-in-github",
        "colab_type": "text"
      },
      "source": [
        "<a href=\"https://colab.research.google.com/github/ktugceerdemli/WebScraping/blob/main/WSBooks.ipynb\" target=\"_parent\"><img src=\"https://colab.research.google.com/assets/colab-badge.svg\" alt=\"Open In Colab\"/></a>"
      ]
    },
    {
      "cell_type": "markdown",
      "source": [
        "# Price Analysis with Web Scraping\n",
        "\n",
        "**Bussiness Problem**\n",
        "\n",
        "A company selling books online finds that it is under-selling in the ‘Travel’ and ‘Nonfiction’ categories. For this reason, the company needs to obtain information on the competitor's website https://books.toscrape.com/, which is permitted to be scraped, for books in the ‘Travel’ and ‘Nonfiction’ categories and to carry out a competitor and price analysis. The company expects you to go to the detail pages of each book in these categories and retrieve some of the information available there."
      ],
      "metadata": {
        "id": "f4NtkbXHNi7R"
      }
    },
    {
      "cell_type": "code",
      "source": [
        "!pip install selenium\n",
        "!pip install bs4"
      ],
      "metadata": {
        "colab": {
          "base_uri": "https://localhost:8080/"
        },
        "id": "X3rBSVfkG0aT",
        "outputId": "f7181b96-bef4-4cc8-c502-c023af601745"
      },
      "execution_count": null,
      "outputs": [
        {
          "output_type": "stream",
          "name": "stdout",
          "text": [
            "Collecting selenium\n",
            "  Downloading selenium-4.23.1-py3-none-any.whl (9.4 MB)\n",
            "\u001b[2K     \u001b[90m━━━━━━━━━━━━━━━━━━━━━━━━━━━━━━━━━━━━━━━━\u001b[0m \u001b[32m9.4/9.4 MB\u001b[0m \u001b[31m17.5 MB/s\u001b[0m eta \u001b[36m0:00:00\u001b[0m\n",
            "\u001b[?25hRequirement already satisfied: urllib3[socks]<3,>=1.26 in /usr/local/lib/python3.10/dist-packages (from selenium) (2.0.7)\n",
            "Collecting trio~=0.17 (from selenium)\n",
            "  Downloading trio-0.26.0-py3-none-any.whl (475 kB)\n",
            "\u001b[2K     \u001b[90m━━━━━━━━━━━━━━━━━━━━━━━━━━━━━━━━━━━━━━━━\u001b[0m \u001b[32m475.7/475.7 kB\u001b[0m \u001b[31m24.8 MB/s\u001b[0m eta \u001b[36m0:00:00\u001b[0m\n",
            "\u001b[?25hCollecting trio-websocket~=0.9 (from selenium)\n",
            "  Downloading trio_websocket-0.11.1-py3-none-any.whl (17 kB)\n",
            "Requirement already satisfied: certifi>=2021.10.8 in /usr/local/lib/python3.10/dist-packages (from selenium) (2024.7.4)\n",
            "Requirement already satisfied: typing_extensions~=4.9 in /usr/local/lib/python3.10/dist-packages (from selenium) (4.12.2)\n",
            "Requirement already satisfied: websocket-client~=1.8 in /usr/local/lib/python3.10/dist-packages (from selenium) (1.8.0)\n",
            "Requirement already satisfied: attrs>=23.2.0 in /usr/local/lib/python3.10/dist-packages (from trio~=0.17->selenium) (23.2.0)\n",
            "Requirement already satisfied: sortedcontainers in /usr/local/lib/python3.10/dist-packages (from trio~=0.17->selenium) (2.4.0)\n",
            "Requirement already satisfied: idna in /usr/local/lib/python3.10/dist-packages (from trio~=0.17->selenium) (3.7)\n",
            "Collecting outcome (from trio~=0.17->selenium)\n",
            "  Downloading outcome-1.3.0.post0-py2.py3-none-any.whl (10 kB)\n",
            "Requirement already satisfied: sniffio>=1.3.0 in /usr/local/lib/python3.10/dist-packages (from trio~=0.17->selenium) (1.3.1)\n",
            "Requirement already satisfied: exceptiongroup in /usr/local/lib/python3.10/dist-packages (from trio~=0.17->selenium) (1.2.2)\n",
            "Collecting wsproto>=0.14 (from trio-websocket~=0.9->selenium)\n",
            "  Downloading wsproto-1.2.0-py3-none-any.whl (24 kB)\n",
            "Requirement already satisfied: pysocks!=1.5.7,<2.0,>=1.5.6 in /usr/local/lib/python3.10/dist-packages (from urllib3[socks]<3,>=1.26->selenium) (1.7.1)\n",
            "Collecting h11<1,>=0.9.0 (from wsproto>=0.14->trio-websocket~=0.9->selenium)\n",
            "  Downloading h11-0.14.0-py3-none-any.whl (58 kB)\n",
            "\u001b[2K     \u001b[90m━━━━━━━━━━━━━━━━━━━━━━━━━━━━━━━━━━━━━━━━\u001b[0m \u001b[32m58.3/58.3 kB\u001b[0m \u001b[31m2.5 MB/s\u001b[0m eta \u001b[36m0:00:00\u001b[0m\n",
            "\u001b[?25hInstalling collected packages: outcome, h11, wsproto, trio, trio-websocket, selenium\n",
            "Successfully installed h11-0.14.0 outcome-1.3.0.post0 selenium-4.23.1 trio-0.26.0 trio-websocket-0.11.1 wsproto-1.2.0\n",
            "Collecting bs4\n",
            "  Downloading bs4-0.0.2-py2.py3-none-any.whl (1.2 kB)\n",
            "Requirement already satisfied: beautifulsoup4 in /usr/local/lib/python3.10/dist-packages (from bs4) (4.12.3)\n",
            "Requirement already satisfied: soupsieve>1.2 in /usr/local/lib/python3.10/dist-packages (from beautifulsoup4->bs4) (2.5)\n",
            "Installing collected packages: bs4\n",
            "Successfully installed bs4-0.0.2\n"
          ]
        }
      ]
    },
    {
      "cell_type": "markdown",
      "source": [
        "Import all necessary libraries"
      ],
      "metadata": {
        "id": "ABqI4wzcnK1U"
      }
    },
    {
      "cell_type": "code",
      "execution_count": 3,
      "metadata": {
        "id": "l_QxW76ONSQJ"
      },
      "outputs": [],
      "source": [
        "\n",
        "from bs4 import BeautifulSoup\n",
        "import pandas as pd\n",
        "from selenium import webdriver\n",
        "from selenium.webdriver.chrome.options import Options\n",
        "from selenium.webdriver.common.by import By\n",
        "import time\n",
        "from selenium.webdriver.common.keys import Keys"
      ]
    },
    {
      "cell_type": "markdown",
      "source": [
        "Functions"
      ],
      "metadata": {
        "id": "wHATymy9nTvd"
      }
    },
    {
      "cell_type": "code",
      "source": [
        "\n",
        "def scrape_opt():\n",
        "    # Chrome options for Selenium\n",
        "    chrome_options = Options()\n",
        "    chrome_options.add_argument('--headless')\n",
        "    chrome_options.add_argument('--no-sandbox')\n",
        "    chrome_options.add_argument('--disable-blink-features=AutomationControlled')\n",
        "    # Driver generation\n",
        "    driver = webdriver.Chrome(options=chrome_options)\n",
        "    return driver\n",
        "\n",
        "\n",
        "def soup_html_data(driver, book_data):\n",
        "    soup = BeautifulSoup(driver.page_source, 'html.parser')\n",
        "    book_elements = soup.select(\"ol.row li\")\n",
        "\n",
        "    if not book_elements:\n",
        "        return False\n",
        "\n",
        "    for book_element in book_elements:\n",
        "        book_name = book_element.select_one(\"h3 a\").get(\"title\")\n",
        "        book_price = float(book_element.select_one(\"p.price_color\").text.replace('£', '').strip())\n",
        "        book_availability = book_element.select_one(\"p.instock\").text.strip()\n",
        "        book_star = book_element.select_one(\"p.star-rating\").get(\"class\")[-1]\n",
        "\n",
        "        book_info = {\n",
        "            'name': book_name,\n",
        "            'price': book_price,\n",
        "            'availability': book_availability,\n",
        "            'star': book_star\n",
        "        }\n",
        "        book_data.append(book_info)\n",
        "\n",
        "    return True\n",
        "\n"
      ],
      "metadata": {
        "id": "imhiSdQdXZVR"
      },
      "execution_count": 10,
      "outputs": []
    },
    {
      "cell_type": "markdown",
      "source": [
        "Scrapping"
      ],
      "metadata": {
        "id": "BDdM14wDn8nG"
      }
    },
    {
      "cell_type": "code",
      "source": [
        "\n",
        "driver = scrape_opt()\n",
        "main_url = 'https://books.toscrape.com/'\n",
        "driver.get(main_url)\n",
        "time.sleep(3)\n",
        "\n",
        "# Get category links\n",
        "cat_elements = driver.find_elements(By.XPATH, \"//a[contains(text(),'Travel') or contains(text(), 'Nonfiction')]\")\n",
        "cat_urls = [element.get_attribute(\"href\") for element in cat_elements]\n",
        "\n",
        "book_data = []\n",
        "\n",
        "for cat in cat_urls:\n",
        "    driver.get(cat)\n",
        "    time.sleep(3)\n",
        "\n",
        "    if 'travel' in cat.lower():\n",
        "        page_url = cat\n",
        "        driver.get(page_url)\n",
        "        time.sleep(3)\n",
        "        soup_html_data(driver, book_data)\n",
        "    else:\n",
        "        page_number = 1\n",
        "        while True:\n",
        "            page_url = f\"{cat.replace('index.html', '')}page-{page_number}.html\"\n",
        "            driver.get(page_url)\n",
        "            time.sleep(3)\n",
        "\n",
        "            if not soup_html_data(driver, book_data):\n",
        "                break\n",
        "\n",
        "            page_number += 1\n",
        "\n",
        "driver.quit()\n"
      ],
      "metadata": {
        "id": "w9N4hLszXmgq"
      },
      "execution_count": 11,
      "outputs": []
    },
    {
      "cell_type": "markdown",
      "source": [
        "Save the data"
      ],
      "metadata": {
        "id": "wN6U4dQ7oAlr"
      }
    },
    {
      "cell_type": "code",
      "source": [
        "\n",
        "# Create a DataFrame from the collected book data\n",
        "book_data_df = pd.DataFrame(book_data)\n",
        "\n",
        "# Display the DataFrame\n",
        "print(book_data_df)\n",
        "\n",
        "book_data_df.to_csv(\"/content/book_df.csv\", index=False)\n"
      ],
      "metadata": {
        "colab": {
          "base_uri": "https://localhost:8080/"
        },
        "id": "RZ4LTcWdXxQ9",
        "outputId": "676865bb-e7f5-4be5-f25c-24acc41bee09"
      },
      "execution_count": 12,
      "outputs": [
        {
          "output_type": "stream",
          "name": "stdout",
          "text": [
            "                                                  name  price availability  \\\n",
            "0                              It's Only the Himalayas  45.17     In stock   \n",
            "1    Full Moon over Noah’s Ark: An Odyssey to Mount...  49.43     In stock   \n",
            "2    See America: A Celebration of Our National Par...  48.87     In stock   \n",
            "3    Vagabonding: An Uncommon Guide to the Art of L...  36.94     In stock   \n",
            "4                                 Under the Tuscan Sun  37.33     In stock   \n",
            "..                                                 ...    ...          ...   \n",
            "116                                      H is for Hawk  57.42     In stock   \n",
            "117         Travels with Charley: In Search of America  57.82     In stock   \n",
            "118                                          The Tumor  41.56     In stock   \n",
            "119     The End of the Jesus Era (An Investigation #1)  14.40     In stock   \n",
            "120                                    Eat, Pray, Love  51.32     In stock   \n",
            "\n",
            "      star  \n",
            "0      Two  \n",
            "1     Four  \n",
            "2    Three  \n",
            "3      Two  \n",
            "4    Three  \n",
            "..     ...  \n",
            "116   Five  \n",
            "117   Five  \n",
            "118   Five  \n",
            "119    One  \n",
            "120  Three  \n",
            "\n",
            "[121 rows x 4 columns]\n"
          ]
        }
      ]
    },
    {
      "cell_type": "markdown",
      "source": [
        "Analyze the data"
      ],
      "metadata": {
        "id": "G_Ug_jVOoan0"
      }
    },
    {
      "cell_type": "code",
      "source": [
        "book_data_df.info()"
      ],
      "metadata": {
        "colab": {
          "base_uri": "https://localhost:8080/"
        },
        "id": "PYvtT_8qlrAm",
        "outputId": "5153160f-1f98-499c-cc1e-461c4e3eec35"
      },
      "execution_count": 35,
      "outputs": [
        {
          "output_type": "stream",
          "name": "stdout",
          "text": [
            "<class 'pandas.core.frame.DataFrame'>\n",
            "RangeIndex: 121 entries, 0 to 120\n",
            "Data columns (total 6 columns):\n",
            " #   Column          Non-Null Count  Dtype   \n",
            "---  ------          --------------  -----   \n",
            " 0   name            121 non-null    object  \n",
            " 1   price           121 non-null    float64 \n",
            " 2   availability    121 non-null    object  \n",
            " 3   star            121 non-null    object  \n",
            " 4   price_category  121 non-null    category\n",
            " 5   star_int        121 non-null    int64   \n",
            "dtypes: category(1), float64(1), int64(1), object(3)\n",
            "memory usage: 5.1+ KB\n"
          ]
        }
      ]
    },
    {
      "cell_type": "code",
      "source": [
        "# Group by star rating and summarize\n",
        "groupbystar = book_data_df.groupby('star').agg({\n",
        "    'name': 'count',  # Count number of books per star rating\n",
        "    'price': 'mean',  # Average price per star rating\n",
        "}).rename(columns={'name': 'count', 'price': 'average_price'})\n",
        "\n",
        "print(groupbystar)"
      ],
      "metadata": {
        "colab": {
          "base_uri": "https://localhost:8080/"
        },
        "id": "_CV520w7X82Z",
        "outputId": "ca50e3e5-95d9-485a-c03e-b404e5a2ed02"
      },
      "execution_count": 37,
      "outputs": [
        {
          "output_type": "stream",
          "name": "stdout",
          "text": [
            "       count  average_price\n",
            "star                       \n",
            "Five      21      36.537143\n",
            "Four      20      37.705500\n",
            "One       26      35.057308\n",
            "Three     28      33.362143\n",
            "Two       26      32.282308\n"
          ]
        }
      ]
    },
    {
      "cell_type": "code",
      "source": [
        "import matplotlib.pyplot as plt\n",
        "# Plotting the count of books per star rating\n",
        "plt.figure(figsize=(10, 5))\n",
        "plt.subplot(1, 2, 1)\n",
        "groupbystar['count'].plot(kind='bar', color='skyblue')\n",
        "plt.title('Count of Books for Each Star Rating')\n",
        "plt.xlabel('Star Rating')\n",
        "plt.ylabel('Count of Books')\n",
        "\n",
        "# Plotting the average price per star rating\n",
        "plt.subplot(1, 2, 2)\n",
        "groupbystar['average_price'].plot(kind='bar', color='blue')\n",
        "plt.title('Average Price for Each Star Rating')\n",
        "plt.xlabel('Star Rating')\n",
        "plt.ylabel('Average Price (£)')\n",
        "\n",
        "plt.tight_layout()\n",
        "plt.show()"
      ],
      "metadata": {
        "colab": {
          "base_uri": "https://localhost:8080/",
          "height": 507
        },
        "id": "k-XXiqgzhJny",
        "outputId": "9fd8a690-bd91-49c7-bb57-4f7172bf1e0f"
      },
      "execution_count": 38,
      "outputs": [
        {
          "output_type": "display_data",
          "data": {
            "text/plain": [
              "<Figure size 1000x500 with 2 Axes>"
            ],
            "image/png": "[encoded data removed]"
          },
          "metadata": {}
        }
      ]
    },
    {
      "cell_type": "code",
      "source": [
        "book_data_df['price_category'] = pd.qcut(book_data_df['price'], q=3, labels=['Cheap', 'Average', 'Expensive'])"
      ],
      "metadata": {
        "id": "3dsOVke3hs_q"
      },
      "execution_count": 24,
      "outputs": []
    },
    {
      "cell_type": "code",
      "source": [
        "# Convert star ratings from text to numbers\n",
        "book_data_df['star_int'] = book_data_df['star'].map({\n",
        "    'One': 1,\n",
        "    'Two': 2,\n",
        "    'Three': 3,\n",
        "    'Four': 4,\n",
        "    'Five': 5\n",
        "})\n",
        "\n",
        "book_data_df['star_int'].astype(int)"
      ],
      "metadata": {
        "colab": {
          "base_uri": "https://localhost:8080/"
        },
        "id": "DtboBbihkL7x",
        "outputId": "f35308ee-b55c-4218-d9d1-7e169a7ed99e"
      },
      "execution_count": 32,
      "outputs": [
        {
          "output_type": "execute_result",
          "data": {
            "text/plain": [
              "0      2\n",
              "1      4\n",
              "2      3\n",
              "3      2\n",
              "4      3\n",
              "      ..\n",
              "116    5\n",
              "117    5\n",
              "118    5\n",
              "119    1\n",
              "120    3\n",
              "Name: star_int, Length: 121, dtype: int64"
            ]
          },
          "metadata": {},
          "execution_count": 32
        }
      ]
    },
    {
      "cell_type": "code",
      "source": [
        "# Group by star rating and summarize\n",
        "groupbyprice = book_data_df.groupby('price_category').agg({\n",
        "    'star_int': 'median',\n",
        "    'name': 'count',  # Count number of books per star rating\n",
        "    'price': 'mean',  # Average price per star rating\n",
        "}).rename(columns={'name': 'count', 'price': 'average_price'})\n",
        "print(groupbyprice)\n"
      ],
      "metadata": {
        "colab": {
          "base_uri": "https://localhost:8080/"
        },
        "id": "oaXRGk8Fk-2f",
        "outputId": "e6f81a63-c0c4-40c6-bd2f-d41dcc504508"
      },
      "execution_count": 34,
      "outputs": [
        {
          "output_type": "stream",
          "name": "stdout",
          "text": [
            "                star_int  count  average_price\n",
            "price_category                                \n",
            "Cheap                3.0     41       19.57439\n",
            "Average              3.0     40       34.40750\n",
            "Expensive            3.0     40       50.68775\n"
          ]
        }
      ]
    },
    {
      "cell_type": "code",
      "source": [
        "book_data_df[\"availability\"].value_counts()"
      ],
      "metadata": {
        "colab": {
          "base_uri": "https://localhost:8080/"
        },
        "id": "2QHopAxngdld",
        "outputId": "b3564681-ecbd-481c-b160-e6e4e5d3798a"
      },
      "execution_count": 19,
      "outputs": [
        {
          "output_type": "execute_result",
          "data": {
            "text/plain": [
              "availability\n",
              "In stock    121\n",
              "Name: count, dtype: int64"
            ]
          },
          "metadata": {},
          "execution_count": 19
        }
      ]
    }
  ]
}